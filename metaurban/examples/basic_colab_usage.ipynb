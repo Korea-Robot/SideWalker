{
 "cells": [
  {
   "cell_type": "code",
   "execution_count": null,
   "metadata": {},
   "outputs": [],
   "source": [
    "# prompt: mount google drive and clone a repo\n",
    "\n",
    "from google.colab import drive\n",
    "drive.mount('/content/drive')\n",
    "\n",
    "!git clone https://github.com/metadriverse/metaurban.git /content/drive/MyDrive/metaurban\n",
    "\n",
    "# Replace username/repository.git with the actual username and repository name\n",
    "# Replace /content/drive/MyDrive/cloned_repo with your desired location in Google Drive"
   ]
  },
  {
   "cell_type": "code",
   "execution_count": null,
   "metadata": {},
   "outputs": [],
   "source": [
    "%cd /content/drive/MyDrive/metaurban"
   ]
  },
  {
   "cell_type": "code",
   "execution_count": null,
   "metadata": {},
   "outputs": [],
   "source": [
    "!pip install -e ."
   ]
  },
  {
   "cell_type": "code",
   "execution_count": null,
   "metadata": {},
   "outputs": [],
   "source": [
    "!pip install \"pybind11[global]\""
   ]
  },
  {
   "cell_type": "code",
   "execution_count": null,
   "metadata": {},
   "outputs": [],
   "source": [
    "%cd metaurban/orca_algo/"
   ]
  },
  {
   "cell_type": "code",
   "execution_count": null,
   "metadata": {},
   "outputs": [],
   "source": [
    "!rm -rf build\n",
    "!bash compile.sh"
   ]
  },
  {
   "cell_type": "code",
   "execution_count": null,
   "metadata": {},
   "outputs": [],
   "source": [
    "!pip install stable_baselines3 imitation tensorboard wandb scikit-image pyyaml gdown"
   ]
  },
  {
   "cell_type": "code",
   "execution_count": null,
   "metadata": {},
   "outputs": [],
   "source": [
    "%cd /content/drive/MyDrive/metaurban/"
   ]
  },
  {
   "cell_type": "code",
   "execution_count": null,
   "metadata": {},
   "outputs": [],
   "source": [
    "!python metaurban/pull_asset.py --update --tiny"
   ]
  },
  {
   "cell_type": "code",
   "execution_count": null,
   "metadata": {},
   "outputs": [],
   "source": [
    "from metaurban.envs import SidewalkStaticMetaUrbanEnv\n",
    "from metaurban.component.sensors.rgb_camera import RGBCamera\n",
    "import cv2\n",
    "from IPython.display import Image\n",
    "from metaurban.utils import generate_gif\n",
    "import numpy as np\n",
    "import os\n",
    "sensor_size = (84, 60) if os.getenv('TEST_DOC') else (200, 100)\n",
    "\n",
    "cfg=dict(object_density=0.1,\n",
    "         image_observation=False,\n",
    "         vehicle_config=dict(image_source=\"rgb_camera\"),\n",
    "         sensors={\"rgb_camera\": (RGBCamera, *sensor_size)},\n",
    "         stack_size=3,\n",
    "         use_render=False,\n",
    "        manual_control=False,\n",
    "        )\n",
    "from metaurban.envs.base_env import BASE_DEFAULT_CONFIG\n",
    "from metaurban.engine.engine_utils import initialize_engine, close_engine\n",
    "config_warmup = BASE_DEFAULT_CONFIG.copy()\n",
    "config_warmup[\"debug\"] = True\n",
    "initialize_engine(config_warmup)\n",
    "close_engine()\n",
    "env=SidewalkStaticMetaUrbanEnv(cfg)\n",
    "print(\"\\nThe action space: {}\".format(env.action_space))\n",
    "print(\"\\nThe observation space: {}\\n\".format(env.observation_space))"
   ]
  }
 ],
 "metadata": {
  "kernelspec": {
   "display_name": "metaurban",
   "language": "python",
   "name": "python3"
  },
  "language_info": {
   "name": "python",
   "version": "3.10.16"
  }
 },
 "nbformat": 4,
 "nbformat_minor": 2
}
